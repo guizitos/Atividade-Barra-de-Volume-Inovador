{
 "cells": [
  {
   "cell_type": "markdown",
   "metadata": {},
   "source": [
    "# Controle de Volume Circular com Tkinter\n",
    "\n",
    "Este notebook implementa um controle de volume circular utilizando Tkinter."
   ]
  },
  {
   "cell_type": "markdown",
   "metadata": {},
   "source": [
    "# Importação das bibliotecas necessárias"
   ]
  },
  {
   "cell_type": "code",
   "execution_count": 1,
   "metadata": {},
   "outputs": [],
   "source": [
    "import tkinter as tk\n",
    "import math"
   ]
  },
  {
   "cell_type": "markdown",
   "metadata": {},
   "source": [
    "# Definição da classe VolumeKnob"
   ]
  },
  {
   "cell_type": "code",
   "execution_count": 13,
   "metadata": {},
   "outputs": [],
   "source": [
    "class VolumeKnob(tk.Canvas):\n",
    "    def __init__(self, master=None, **kwargs):\n",
    "        super().__init__(master, **kwargs)\n",
    "        self.width = 300\n",
    "        self.height = 300\n",
    "        self.center = (self.width/2, self.height/2)\n",
    "        self.radius = 120\n",
    "        self.angle = 0  # Initial angle\n",
    "        self.volume = 50  # Initial volume (0-100)\n",
    "        self.create_widgets()\n",
    "        self.bind('<B1-Motion>', self.on_drag)\n",
    "        self.bind('<Button-1>', self.on_click)\n",
    "\n",
    "    def create_widgets(self):\n",
    "        self.create_oval(10, 10, 290, 290, outline='black', width=2, fill='#ddd')\n",
    "        self.indicator = self.create_line(self.center[0], self.center[1],\n",
    "                                          self.center[0], self.center[1] - self.radius,\n",
    "                                          fill='red', width=3)\n",
    "        self.volume_text = self.create_text(self.center[0], self.center[1] + 140,\n",
    "                                            text=f'Volume: {self.volume}%',\n",
    "                                            font=('Arial', 16, 'bold'))\n",
    "\n",
    "    def update_knob(self):\n",
    "        end_x = self.center[0] + self.radius * math.sin(math.radians(self.angle))\n",
    "        end_y = self.center[1] - self.radius * math.cos(math.radians(self.angle))\n",
    "        self.coords(self.indicator, self.center[0], self.center[1], end_x, end_y)\n",
    "        self.itemconfig(self.volume_text, text=f'Volume: {self.volume}%')\n",
    "\n",
    "    def on_click(self, event):\n",
    "        self.update_angle(event)\n",
    "\n",
    "    def on_drag(self, event):\n",
    "        self.update_angle(event)\n",
    "\n",
    "    def update_angle(self, event):\n",
    "        dx = event.x - self.center[0]\n",
    "        dy = self.center[1] - event.y\n",
    "        angle = math.degrees(math.atan2(dx, dy)) % 360\n",
    "        self.angle = angle\n",
    "        self.volume = int((self.angle / 360) * 100)\n",
    "        self.update_knob()\n"
   ]
  },
  {
   "cell_type": "markdown",
   "metadata": {},
   "source": [
    "Execução da aplicação"
   ]
  },
  {
   "cell_type": "code",
   "execution_count": 17,
   "metadata": {},
   "outputs": [],
   "source": [
    "root = tk.Tk()\n",
    "root.title('Controle de Volume Circular')\n",
    "volume_knob = VolumeKnob(root, width=300, height=300, bg='white')\n",
    "volume_knob.pack(expand=True)\n",
    "root.mainloop()"
   ]
  }
 ],
 "metadata": {
  "kernelspec": {
   "display_name": "Python 3",
   "language": "python",
   "name": "python3"
  },
  "language_info": {
   "codemirror_mode": {
    "name": "ipython",
    "version": 3
   },
   "file_extension": ".py",
   "mimetype": "text/x-python",
   "name": "python",
   "nbconvert_exporter": "python",
   "pygments_lexer": "ipython3",
   "version": "3.11.9"
  }
 },
 "nbformat": 4,
 "nbformat_minor": 2
}
